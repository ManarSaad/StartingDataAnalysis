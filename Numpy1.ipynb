{
 "cells": [
  {
   "cell_type": "code",
   "execution_count": 17,
   "metadata": {},
   "outputs": [
    {
     "name": "stdout",
     "output_type": "stream",
     "text": [
      "[[80 67 55 90]\n",
      " [60 88 70 98]\n",
      " [52 77 87 78]]\n"
     ]
    }
   ],
   "source": [
    "# let's say i'm going to record the climate temperature in different times a day for 3 days by using Numpy \n",
    "\n",
    "import numpy as np\n",
    "My_list=[[80,67,55,90],\n",
    "        [60,88,70,98],\n",
    "        [52,77,87,78]]\n",
    "\n",
    "climate_array=np.array(My_list)\n",
    "print(climate_array)\n",
    "\n",
    "# days are columns(monday,tuesday,wednesday), rows are the changes in the temperature a day\n"
   ]
  },
  {
   "cell_type": "code",
   "execution_count": 18,
   "metadata": {},
   "outputs": [
    {
     "name": "stdout",
     "output_type": "stream",
     "text": [
      "[[ 84  71  59  94]\n",
      " [ 64  92  74 102]\n",
      " [ 56  81  91  82]]\n"
     ]
    }
   ],
   "source": [
    "# let's use some operation in our array\n",
    "# what if the temperature was not accurate ! it's less than the accurate by 4 points ! it is easy to solve this :\n",
    "climate_fixed=climate_array+4\n",
    "print(climate_fixed)"
   ]
  },
  {
   "cell_type": "code",
   "execution_count": 22,
   "metadata": {},
   "outputs": [
    {
     "name": "stdout",
     "output_type": "stream",
     "text": [
      "[84 71 59 94]\n"
     ]
    }
   ],
   "source": [
    "# i want to select all the temperature of the first day which is monday \n",
    "monday_temperatures=climate_fixed[0,:]\n",
    "print(monday_temperatures)"
   ]
  },
  {
   "cell_type": "code",
   "execution_count": 20,
   "metadata": {},
   "outputs": [
    {
     "data": {
      "text/plain": [
       "array([59, 74, 91])"
      ]
     },
     "execution_count": 20,
     "metadata": {},
     "output_type": "execute_result"
    }
   ],
   "source": [
    "# now i want to select a same record time of temperature in diffrenet days\n",
    "climate_fixed[:,2]"
   ]
  },
  {
   "cell_type": "code",
   "execution_count": 24,
   "metadata": {},
   "outputs": [
    {
     "name": "stdout",
     "output_type": "stream",
     "text": [
      "[84 71 74 81 82]\n"
     ]
    }
   ],
   "source": [
    "# let's select the all the temperature between 70 and 90\n",
    "temperature=climate_fixed[(climate_fixed >= 70) & (climate_fixed <= 90)]\n",
    "print(temperature)"
   ]
  },
  {
   "cell_type": "code",
   "execution_count": null,
   "metadata": {},
   "outputs": [],
   "source": []
  }
 ],
 "metadata": {
  "kernelspec": {
   "display_name": "Python 3",
   "language": "python",
   "name": "python3"
  },
  "language_info": {
   "codemirror_mode": {
    "name": "ipython",
    "version": 3
   },
   "file_extension": ".py",
   "mimetype": "text/x-python",
   "name": "python",
   "nbconvert_exporter": "python",
   "pygments_lexer": "ipython3",
   "version": "3.7.4"
  }
 },
 "nbformat": 4,
 "nbformat_minor": 2
}
